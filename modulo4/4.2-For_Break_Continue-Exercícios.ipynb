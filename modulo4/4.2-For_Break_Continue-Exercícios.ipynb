{
 "cells": [
  {
   "cell_type": "markdown",
   "id": "29e89030",
   "metadata": {},
   "source": [
    "# Módulo 4 - Repetições\n",
    "\n",
    "## Aulas 4.2 - Comando ```for``` e 4.3 Break e Continue"
   ]
  },
  {
   "cell_type": "markdown",
   "id": "a45b42df",
   "metadata": {},
   "source": [
    "### Q1.\n",
    "\n",
    "Crie um programa em Python que utilize o comando for para imprimir os números de 10 a 1, em ordem decrescente."
   ]
  },
  {
   "cell_type": "code",
   "execution_count": 4,
   "id": "55a75b3d",
   "metadata": {},
   "outputs": [
    {
     "name": "stdout",
     "output_type": "stream",
     "text": [
      "10\n",
      "9\n",
      "8\n",
      "7\n",
      "6\n",
      "5\n",
      "4\n",
      "3\n",
      "2\n",
      "1\n"
     ]
    }
   ],
   "source": [
    "## Escreva e execute seu código aqui\n",
    "for i in range(10, 0, -1):\n",
    "    print(i)"
   ]
  },
  {
   "cell_type": "markdown",
   "id": "94b47c36",
   "metadata": {},
   "source": [
    "### Q2.\n",
    "\n",
    "Dado um número inteiro positivo informado pelo usuário, crie um programa em Python que utilize o comando for para calcular e exibir a soma dos números de 1 até o número informado. Ou seja, $1 + 2 + 3 + ... + n$\n",
    "\n",
    "Exemplo de interação:\n",
    "```\n",
    "Digite um número: 5\n",
    "A soma dos números de 1 a 5 é 15\n",
    "```\n"
   ]
  },
  {
   "cell_type": "code",
   "execution_count": 1,
   "id": "45b71596",
   "metadata": {},
   "outputs": [
    {
     "name": "stdout",
     "output_type": "stream",
     "text": [
      "A soma dos números de 1 a 5 é 15\n"
     ]
    }
   ],
   "source": [
    "## Escreva e execute seu código aqui\n",
    "# -------- Variáveis de entrada\n",
    "n = int(input(\"Digite um número: \"))\n",
    "soma = 0\n",
    "\n",
    "# -------- Laço de repetição\n",
    "for i in range(1, n, 1):\n",
    "    soma += soma + 1\n",
    "\n",
    "# -------- Saída dos dados\n",
    "print(f\"A soma dos números de 1 a {n} é {soma}\")"
   ]
  },
  {
   "cell_type": "markdown",
   "id": "0411d170",
   "metadata": {},
   "source": [
    "### Q3.\n",
    "\n",
    "Escreva um programa que lê 10 valores inteiros positivos do usuário e ao final imprime a média dos valores digitados com duas casas decimais.\n",
    "\n",
    "```\n",
    "Digite 10 números positivos:\n",
    "3\n",
    "2\n",
    "12\n",
    "14\n",
    "20\n",
    "42\n",
    "19\n",
    "0\n",
    "8\n",
    "1\n",
    "A média dos valores digitados é 12.10\n",
    "```"
   ]
  },
  {
   "cell_type": "code",
   "execution_count": null,
   "id": "3f72f358",
   "metadata": {},
   "outputs": [],
   "source": [
    "## Escreva e execute seu código aqui\n",
    "# -------- Variáveis de entrada\n",
    "print(\"Digite 10 números positivos\")\n",
    "soma = 0\n",
    "\n",
    "# -------- Laço de repetição\n",
    "for i in range(10):\n",
    "    n = int(input())\n",
    "    soma += n\n",
    "\n",
    "# -------- Saída dos dados\n",
    "print(f\"A média dos valores digitados é {(soma/10):.2f}\")"
   ]
  },
  {
   "cell_type": "markdown",
   "id": "d62e27ff",
   "metadata": {},
   "source": [
    "### Q4.\n",
    "\n",
    "Você vai criar um sistema que registra os resultados dos jogos do Atlético MG ao longo de um campeonato. Seu sistema vai receber os resultados de todos os jogos do Galo, e deve calcular a pontuação do time sabendo que vitórias valem 3 pontos, empates 1 ponto e derrotas 0 pontos.\n",
    "\n",
    "Entrada: <br>\n",
    "A primeira linha de entrada é um inteiro N com a quantidade jogos do galo. Para cada jogo você deve ler 2 inteiros, o primeiro com a quantidade de gols do galo e o segundo com a quantidade de gols do time oponente. \n",
    "\n",
    "Saída: <br>\n",
    "Apresente a soma de vitórias, empates e derrotas do galo, junto com o cálculo da pontuação total.\n",
    "\n",
    "Ex:\n",
    "```\n",
    "Entrada:\n",
    "4\n",
    "2\n",
    "0\n",
    "1\n",
    "1\n",
    "0\n",
    "3\n",
    "1\n",
    "0\n",
    "\n",
    "Saída:\n",
    "Vitórias: 2\n",
    "Empates: 1\n",
    "Derrotas: 1\n",
    "Pontuação: 7\n",
    "\n",
    "```\n",
    "\n",
    "\n"
   ]
  },
  {
   "cell_type": "code",
   "execution_count": null,
   "id": "d3fdfc2a",
   "metadata": {},
   "outputs": [],
   "source": [
    "## Escreva e execute seu código aqui\n",
    "# --------- Entrada de dados\n",
    "n = int(input(\"Entrada: \\n\"))\n",
    "vit = 0\n",
    "der = 0\n",
    "emp = 0\n",
    "pont = 0\n",
    "\n",
    "# --------- Tratamento de dados\n",
    "for i in range (n):\n",
    "    gol_galo = int(input())\n",
    "    gol_op = int(input())\n",
    "    if(gol_galo > gol_op):\n",
    "        vit += 1\n",
    "        pont += 3\n",
    "    elif(gol_galo == gol_op):\n",
    "        emp += 1\n",
    "        pont += 1\n",
    "    else:\n",
    "        der += 1\n",
    "        pont += 0\n",
    "\n",
    "# --------- Saída de daods\n",
    "print(f\"Vitórias: {vit}\")\n",
    "print(f\"Empates: {emp}\")\n",
    "print(f\"Derrotas: {der}\")\n",
    "print(f\"Pontuação: {pont}\")"
   ]
  },
  {
   "cell_type": "markdown",
   "id": "fc98604d",
   "metadata": {},
   "source": [
    "### Q5.\n",
    "\n",
    "Faça um programa que lê dois inteiros N e M, e imprime na tela um campo de batalha naval. O tabuleiro deve possuir N linhas e M colunas. A primeira linha é composta por um espaço em branco e o cabeçalho das colunas, ou seja, valores de 1 a M. As N linhas seguintes iniciam com o cabeçalho da linha, ou seja, seu número, seguido de M caracteres \"/\" (barra) indicando uma possível posição jogável. \n",
    "\n",
    "```\n",
    "Entrada:\n",
    "5\n",
    "4\n",
    "\n",
    "Saída:\n",
    "  1 2 3 4 \n",
    "1 / / / / \n",
    "2 / / / / \n",
    "3 / / / / \n",
    "4 / / / / \n",
    "5 / / / / \n",
    "```\n",
    "\n",
    "Para esse exercício, precisamos lembrar que o comando print implicitamente adiciona uma quebra de linha ao final da impressão. Podemos interferir no final da impressão adicionando mais uma entrada ao print. No exemplo, finalizamos cada linha com um espaço em branco:\n",
    "```python\n",
    "print(\"Texto qualquer\", end = \" \")\n",
    "```"
   ]
  },
  {
   "cell_type": "code",
   "execution_count": 1,
   "id": "a60ef197",
   "metadata": {},
   "outputs": [
    {
     "name": "stdout",
     "output_type": "stream",
     "text": [
      "Entrada:\n",
      " \n",
      "  1 2 3 4  \n",
      "1 / / / /  \n",
      "2 / / / /  \n",
      "3 / / / /  \n",
      "4 / / / /  \n",
      "5 / / / / "
     ]
    }
   ],
   "source": [
    "## Escreva e execute seu código aqui\n",
    "# --------- Entrada de dados\n",
    "print(\"Entrada:\")\n",
    "n = int(input())\n",
    "m = int(input())\n",
    "aux = 1\n",
    "auxx = 1\n",
    "\n",
    "# --------- Tratamento de dados\n",
    "for i in range(n+1):\n",
    "    print(\" \")\n",
    "    for j in range(m+1):\n",
    "        if(i == 0 and j == 0):\n",
    "            print(\" \", end = (\" \"))\n",
    "        elif(i == 0):\n",
    "            print(f\"{aux}\", end = (\" \"))\n",
    "            aux += 1\n",
    "        elif(j == 0):\n",
    "            print(f\"{auxx}\", end = (\" \"))\n",
    "            auxx += 1\n",
    "        else:\n",
    "            print(\"/\", end = (\" \"))"
   ]
  },
  {
   "cell_type": "markdown",
   "id": "4654dc0b",
   "metadata": {},
   "source": [
    "---\n",
    "## Break e Continue"
   ]
  },
  {
   "cell_type": "markdown",
   "id": "24fe9d85",
   "metadata": {},
   "source": [
    "### Q6.\n",
    "\n",
    "Escreva um programa que lê uma quantidade indefinida de valores e informa o maior e o menor valor digitados. A leitura é encerrada quando o usuário digitar o valor 0 (zero).\n",
    "\n",
    "```\n",
    "Entrada:\n",
    "12\n",
    "-1\n",
    "29\n",
    "11\n",
    "-5\n",
    "0\n",
    "\n",
    "Saída:\n",
    "Maior: 29\n",
    "Menor: -5\n",
    "```"
   ]
  },
  {
   "cell_type": "code",
   "execution_count": 2,
   "id": "ee1c466a",
   "metadata": {},
   "outputs": [
    {
     "name": "stdout",
     "output_type": "stream",
     "text": [
      "Entrada:\n",
      "Saída \n",
      "Maior: 29 \n",
      "Menor: -5\n"
     ]
    }
   ],
   "source": [
    "## Escreva e execute seu código aqui\n",
    "# --------- Entrada de dados\n",
    "maior = float('-inf')\n",
    "menor = float('inf')\n",
    "print(\"Entrada:\")\n",
    "\n",
    "while True:\n",
    "    n = int(input())\n",
    "    if (n == 0): break\n",
    "    # --------- Tratamento de dados\n",
    "    if (n > maior):\n",
    "        maior = n\n",
    "    if (n < menor):\n",
    "        menor = n\n",
    "\n",
    "# --------- Saída de daods\n",
    "print(f\"Saída \\nMaior: {maior} \\nMenor: {menor}\")"
   ]
  },
  {
   "cell_type": "markdown",
   "id": "30d486f7",
   "metadata": {},
   "source": [
    "### Q7.\n",
    "\n",
    "Escreva um programa que lê uma quantidade indefinida de valores e informa o **produto** dos valores positivos digitados. A leitura é encerrada quando o usuário digitar o valor 0 (zero).\n",
    "\n",
    "```\n",
    "Entrada:\n",
    "2\n",
    "-1\n",
    "1\n",
    "3\n",
    "-5\n",
    "0\n",
    "\n",
    "Saída:\n",
    "Produto: 6\n",
    "```"
   ]
  },
  {
   "cell_type": "code",
   "execution_count": 3,
   "id": "2f1ac324",
   "metadata": {},
   "outputs": [
    {
     "name": "stdout",
     "output_type": "stream",
     "text": [
      "Entrada:\n",
      "Saída \n",
      "Produto: 6\n"
     ]
    }
   ],
   "source": [
    "## Escreva e execute seu código aqui\n",
    "# --------- Entrada de dados\n",
    "prod = 1\n",
    "print(\"Entrada:\")\n",
    "\n",
    "while True:\n",
    "    n = int(input())\n",
    "    # --------- Tratamento de dados\n",
    "    if (n > 0):\n",
    "        prod *= n\n",
    "    if (n == 0): break\n",
    "\n",
    "\n",
    "# --------- Saída de daods\n",
    "print(f\"Saída: \\nProduto: {prod}\")"
   ]
  },
  {
   "cell_type": "markdown",
   "id": "e932f3cf",
   "metadata": {},
   "source": [
    "### Q8.\n",
    "\n",
    "Vamos fazer uma calculadora que aceita expressões aritméticas de qualquer tamanho até que o usuário digite a palavra \"Fim\". Sua calculadora executa apenas as operações \"+\", \"-\".\n",
    "\n",
    "```\n",
    "Entrada:\n",
    "5\n",
    "+\n",
    "8\n",
    "-\n",
    "3\n",
    "+\n",
    "2\n",
    "Fim\n",
    "\n",
    "Saída:\n",
    "12\n",
    "```"
   ]
  },
  {
   "cell_type": "code",
   "execution_count": 4,
   "id": "e835d870",
   "metadata": {},
   "outputs": [
    {
     "name": "stdout",
     "output_type": "stream",
     "text": [
      "Entrada:\n",
      "13\n",
      "10\n",
      "12\n",
      "Saída: \n",
      "12\n"
     ]
    }
   ],
   "source": [
    "## Escreva e execute seu código aqui\n",
    "# --------- Entrada de dados\n",
    "print(\"Entrada:\")\n",
    "n = int(input())\n",
    "\n",
    "while True:\n",
    "    op = (input())\n",
    "    if (op == 'Fim'): break\n",
    "    if (op != '+' and op != '-'): break\n",
    "\n",
    "    aux = int(input())\n",
    "\n",
    "    # --------- Tratamento de dados\n",
    "    if(op == '+'):\n",
    "        n += aux\n",
    "    else:\n",
    "        n -= aux\n",
    "    \n",
    "# --------- Saída de daods\n",
    "print(f\"Saída: \\n{n}\")"
   ]
  }
 ],
 "metadata": {
  "kernelspec": {
   "display_name": "Python 3",
   "language": "python",
   "name": "python3"
  },
  "language_info": {
   "codemirror_mode": {
    "name": "ipython",
    "version": 3
   },
   "file_extension": ".py",
   "mimetype": "text/x-python",
   "name": "python",
   "nbconvert_exporter": "python",
   "pygments_lexer": "ipython3",
   "version": "3.12.3"
  }
 },
 "nbformat": 4,
 "nbformat_minor": 5
}
